{
 "cells": [
  {
   "cell_type": "code",
   "execution_count": null,
   "id": "7d9f34ae",
   "metadata": {},
   "outputs": [],
   "source": [
    "print(\"Hi here\")"
   ]
  }
 ],
 "metadata": {
  "language_info": {
   "name": "python"
  }
 },
 "nbformat": 4,
 "nbformat_minor": 5
}
